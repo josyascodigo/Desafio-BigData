{
 "cells": [
  {
   "cell_type": "code",
   "execution_count": 34,
   "metadata": {},
   "outputs": [],
   "source": [
    "from pyspark.sql import SparkSession\n",
    "from pyspark.sql.functions import col, sum as spark_sum, date_format\n",
    "from pyspark.sql.types import DateType\n",
    "import pandas as pd\n"
   ]
  },
  {
   "cell_type": "code",
   "execution_count": 35,
   "metadata": {},
   "outputs": [],
   "source": [
    "# Inicia uma sessão Spark\n",
    "spark = SparkSession.builder \\\n",
    "    .appName(\"RelatorioVendasDistribuido\") \\\n",
    "    .getOrCreate()"
   ]
  },
  {
   "cell_type": "code",
   "execution_count": 36,
   "metadata": {},
   "outputs": [],
   "source": [
    "# Lê o arquivo CSV de forma distribuída e particiona por \"Country\"\n",
    "df = spark.read.csv(\"vendas.csv\", header=True, inferSchema=True)\n"
   ]
  },
  {
   "cell_type": "code",
   "execution_count": 37,
   "metadata": {},
   "outputs": [],
   "source": [
    "# Particiona os dados pelo campo \"Country\" para otimizar o processamento\n",
    "df = df.repartition(\"Country\")"
   ]
  },
  {
   "cell_type": "code",
   "execution_count": 38,
   "metadata": {},
   "outputs": [],
   "source": [
    "# Converte a coluna \"Order Date\" para o tipo de dado Date\n",
    "df = df.withColumn(\"Order Date\", col(\"Order Date\").cast(DateType()))"
   ]
  },
  {
   "cell_type": "code",
   "execution_count": 39,
   "metadata": {},
   "outputs": [],
   "source": [
    "# 1. Identifica o produto mais vendido em termos de quantidade e canal\n",
    "produto_mais_vendido = df.groupBy(\"Item Type\", \"Sales Channel\") \\\n",
    "    .agg(spark_sum(\"Units Sold\").alias(\"Total Units Sold\")) \\\n",
    "    .orderBy(col(\"Total Units Sold\").desc()) \\\n",
    "    .limit(1)"
   ]
  },
  {
   "cell_type": "code",
   "execution_count": 40,
   "metadata": {},
   "outputs": [],
   "source": [
    "# 2. Determina o país e região com o maior volume de vendas (em valor)\n",
    "vendas_por_pais_regiao = df.groupBy(\"Country\", \"Region\") \\\n",
    "    .agg(spark_sum(\"Total Revenue\").alias(\"Total Revenue\")) \\\n",
    "    .orderBy(col(\"Total Revenue\").desc()) \\\n",
    "    .limit(1)"
   ]
  },
  {
   "cell_type": "code",
   "execution_count": 41,
   "metadata": {},
   "outputs": [],
   "source": [
    "# 3. Calcula a média de vendas mensais por produto\n",
    "df = df.withColumn(\"Month\", date_format(col(\"Order Date\"), \"yyyy-MM\"))\n",
    "media_vendas_mensais = df.groupBy(\"Month\", \"Item Type\") \\\n",
    "    .agg(spark_sum(\"Units Sold\").alias(\"Total Units Sold\"))\n",
    "media_mensal = media_vendas_mensais.groupBy(\"Item Type\") \\\n",
    "    .agg({\"Total Units Sold\": \"avg\"}) \\\n",
    "    .withColumnRenamed(\"avg(Total Units Sold)\", \"Average Monthly Sales\")"
   ]
  },
  {
   "cell_type": "code",
   "execution_count": 42,
   "metadata": {},
   "outputs": [],
   "source": [
    "# Função para salvar os resultados em um arquivo Excel\n",
    "def salvar_em_excel(produto_mais_vendido, vendas_por_pais_regiao, media_mensal, caminho_arquivo):\n",
    "    # Converte os DataFrames Spark para Pandas\n",
    "    produto_mais_vendido_pd = produto_mais_vendido.toPandas()\n",
    "    vendas_por_pais_regiao_pd = vendas_por_pais_regiao.toPandas()\n",
    "    media_mensal_pd = media_mensal.toPandas()\n",
    "\n",
    "    # Cria um escritor Excel com múltiplas abas\n",
    "    with pd.ExcelWriter(caminho_arquivo) as writer:\n",
    "        produto_mais_vendido_pd.to_excel(writer, sheet_name='Produto Mais Vendido', index=False)\n",
    "        vendas_por_pais_regiao_pd.to_excel(writer, sheet_name='Vendas Por País e Região', index=False)\n",
    "        media_mensal_pd.to_excel(writer, sheet_name='Média Vendas Mensais', index=False)\n",
    "\n"
   ]
  },
  {
   "cell_type": "code",
   "execution_count": 43,
   "metadata": {},
   "outputs": [
    {
     "name": "stdout",
     "output_type": "stream",
     "text": [
      "Relatório gerado com sucesso em 'C:\\Users\\josia\\OneDrive\\Documentos\\Script_Ponto_Py\\projeto-texte-Bradesco\\relatorio_vendas_spark.xlsx'\n"
     ]
    }
   ],
   "source": [
    "# Define o caminho completo do arquivo Excel\n",
    "caminho_arquivo_excel = r\"C:\\Users\\josia\\OneDrive\\Documentos\\Script_Ponto_Py\\projeto-texte-Bradesco\\relatorio_vendas_spark.xlsx\"\n",
    "\n",
    "# Salva os resultados no arquivo Excel\n",
    "salvar_em_excel(produto_mais_vendido, vendas_por_pais_regiao, media_mensal, caminho_arquivo_excel)\n",
    "\n",
    "print(f\"Relatório gerado com sucesso em '{caminho_arquivo_excel}'\")\n"
   ]
  }
 ],
 "metadata": {
  "kernelspec": {
   "display_name": "Python 3",
   "language": "python",
   "name": "python3"
  },
  "language_info": {
   "codemirror_mode": {
    "name": "ipython",
    "version": 3
   },
   "file_extension": ".py",
   "mimetype": "text/x-python",
   "name": "python",
   "nbconvert_exporter": "python",
   "pygments_lexer": "ipython3",
   "version": "3.11.9"
  }
 },
 "nbformat": 4,
 "nbformat_minor": 2
}
