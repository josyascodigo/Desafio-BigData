{
 "cells": [
  {
   "cell_type": "code",
   "execution_count": 19,
   "metadata": {},
   "outputs": [],
   "source": [
    "import pandas as pd\n",
    "\n",
    "# Cria um novo DataFrame para receber os dados sumarizados\n",
    "tabela = pd.DataFrame()\n",
    "\n",
    "# Lê os dados em blocos, convertendo a coluna \"Order Date\" para datas\n",
    "for chunk in pd.read_csv(\"vendas.csv\", chunksize=10000, parse_dates=[\"Order Date\"]):\n",
    "    colunas = [\"Region\", \"Country\", \"Item Type\", \"Sales Channel\", \"Order Date\", \"Units Sold\", \"Total Revenue\"]\n",
    "    \n",
    "    # Filtra as colunas necessárias\n",
    "    chunk_filtrado = chunk[colunas]\n",
    "    \n",
    "    # Concatena os dados filtrados ao DataFrame principal\n",
    "    tabela = pd.concat([tabela, chunk_filtrado], ignore_index=True)\n"
   ]
  },
  {
   "cell_type": "code",
   "execution_count": 20,
   "metadata": {},
   "outputs": [],
   "source": [
    "# 1. Identifica o produto mais vendido em termos de quantidade e canal\n",
    "produto_mais_vendido = tabela.groupby([\"Item Type\", \"Sales Channel\"])[\"Units Sold\"].sum().reset_index()\n",
    "produto_mais_vendido = produto_mais_vendido.loc[produto_mais_vendido[\"Units Sold\"].idxmax()]\n",
    "\n"
   ]
  },
  {
   "cell_type": "code",
   "execution_count": 21,
   "metadata": {},
   "outputs": [],
   "source": [
    "# 2. Determina o país e região com o maior volume de vendas (em valor)\n",
    "vendas_por_pais_regiao = tabela.groupby([\"Country\", \"Region\"])[\"Total Revenue\"].sum().reset_index()\n",
    "maior_vendas = vendas_por_pais_regiao.loc[vendas_por_pais_regiao[\"Total Revenue\"].idxmax()]\n"
   ]
  },
  {
   "cell_type": "code",
   "execution_count": 22,
   "metadata": {},
   "outputs": [],
   "source": [
    "# 3. Calcula a média de vendas mensais por produto\n",
    "tabela['Month'] = tabela['Order Date'].dt.to_period('M')\n",
    "media_vendas_mensais = tabela.groupby([\"Month\", \"Item Type\"])[\"Units Sold\"].sum().reset_index()\n",
    "media_mensal = media_vendas_mensais.groupby(\"Item Type\")[\"Units Sold\"].mean().reset_index()\n"
   ]
  },
  {
   "cell_type": "code",
   "execution_count": 23,
   "metadata": {},
   "outputs": [
    {
     "name": "stdout",
     "output_type": "stream",
     "text": [
      "Relatório gerado com sucesso em 'relatorio_vendas.xlsx'\n"
     ]
    }
   ],
   "source": [
    "# Cria um arquivo Excel para salvar os resultados\n",
    "with pd.ExcelWriter(\"relatorio_vendas.xlsx\") as writer:\n",
    "    # Salva cada DataFrame em uma aba separada\n",
    "    produto_mais_vendido.to_frame().T.to_excel(writer, sheet_name='Produto Mais Vendido', index=False)\n",
    "    maior_vendas.to_frame().T.to_excel(writer, sheet_name='Maior Vendas', index=False)\n",
    "    media_mensal.to_excel(writer, sheet_name='Media Vendas Mensais', index=False)\n",
    "\n",
    "print(\"Relatório gerado com sucesso em 'relatorio_vendas.xlsx'\")"
   ]
  },
  {
   "cell_type": "markdown",
   "metadata": {},
   "source": [
    "# Documentação do Código de Análise de Vendas\n",
    "\n",
    "## Visão Geral\n",
    "\n",
    "Este código é uma solução para a análise de vendas a partir de um arquivo CSV chamado `vendas.csv`. O objetivo principal é processar grandes volumes de dados para extrair informações valiosas sobre vendas, como:\n",
    "\n",
    "1. Identificar o produto mais vendido em termos de quantidade e canal de vendas.\n",
    "2. Determinar qual país e região tiveram o maior volume de vendas (em valor).\n",
    "3. Calcular a média de vendas mensais por produto.\n",
    "4. Gerar um relatório em formato Excel que contenha os resultados das análises.\n",
    "\n",
    "## Dependências\n",
    "\n",
    "Para executar este código, é necessário ter a biblioteca `pandas` instalada. Esta biblioteca é amplamente utilizada para manipulação e análise de dados em Python.\n",
    "\n",
    "### Instalação\n",
    "\n",
    "Você pode instalar a biblioteca `pandas` utilizando o seguinte comando:\n",
    "\n",
    "```bash\n",
    "pip install pandas\n"
   ]
  }
 ],
 "metadata": {
  "kernelspec": {
   "display_name": "Python 3",
   "language": "python",
   "name": "python3"
  },
  "language_info": {
   "codemirror_mode": {
    "name": "ipython",
    "version": 3
   },
   "file_extension": ".py",
   "mimetype": "text/x-python",
   "name": "python",
   "nbconvert_exporter": "python",
   "pygments_lexer": "ipython3",
   "version": "3.11.9"
  }
 },
 "nbformat": 4,
 "nbformat_minor": 2
}
